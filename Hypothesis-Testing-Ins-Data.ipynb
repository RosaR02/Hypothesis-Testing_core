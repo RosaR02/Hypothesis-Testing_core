{
 "cells": [
  {
   "cell_type": "markdown",
   "id": "21ad6cf5",
   "metadata": {},
   "source": [
    "# Hypothesis Testing with Insurance Data\n",
    "We have been asked to use our hypothesis testing skills to answer the following questions:\n",
    "\n",
    "- Q1. Do smokers have higher insurance charges than non-smokers?\n",
    "- Q2. Are men more likely to smoke than women?\n",
    "- Q3. Do different regions have different charges, on average?\n",
    "\n",
    "\n",
    "For each question, make sure to:\n",
    "\n",
    "- State your Null Hypothesis and Alternative Hypothesis\n",
    "- Select the correct test according to the data type and number of samples\n",
    "- Test the assumptions of your selected test.\n",
    "- Execute the selected test, or the alternative test (if you do not meet the assumptions)\n",
    "- Interpret your p-value and reject or fail to reject your null hypothesis \n",
    "- Show a supporting visualization that helps display the result"
   ]
  },
  {
   "cell_type": "markdown",
   "id": "9db22ecf",
   "metadata": {},
   "source": [
    "### Imports"
   ]
  },
  {
   "cell_type": "code",
   "execution_count": 1,
   "id": "fc3a33de",
   "metadata": {},
   "outputs": [],
   "source": [
    "## import the standard packages\n",
    "import pandas as pd\n",
    "import numpy as np\n",
    "import seaborn as sns\n",
    "import matplotlib.pyplot as plt\n",
    "\n",
    "\n",
    "## import hypothesis testing functions\n",
    "from scipy import stats"
   ]
  },
  {
   "cell_type": "code",
   "execution_count": 6,
   "id": "ec0da39a",
   "metadata": {},
   "outputs": [
    {
     "data": {
      "text/html": [
       "<div>\n",
       "<style scoped>\n",
       "    .dataframe tbody tr th:only-of-type {\n",
       "        vertical-align: middle;\n",
       "    }\n",
       "\n",
       "    .dataframe tbody tr th {\n",
       "        vertical-align: top;\n",
       "    }\n",
       "\n",
       "    .dataframe thead th {\n",
       "        text-align: right;\n",
       "    }\n",
       "</style>\n",
       "<table border=\"1\" class=\"dataframe\">\n",
       "  <thead>\n",
       "    <tr style=\"text-align: right;\">\n",
       "      <th></th>\n",
       "      <th>age</th>\n",
       "      <th>sex</th>\n",
       "      <th>bmi</th>\n",
       "      <th>children</th>\n",
       "      <th>smoker</th>\n",
       "      <th>region</th>\n",
       "      <th>charges</th>\n",
       "    </tr>\n",
       "  </thead>\n",
       "  <tbody>\n",
       "    <tr>\n",
       "      <th>0</th>\n",
       "      <td>19</td>\n",
       "      <td>female</td>\n",
       "      <td>27.900</td>\n",
       "      <td>0</td>\n",
       "      <td>yes</td>\n",
       "      <td>southwest</td>\n",
       "      <td>16884.92400</td>\n",
       "    </tr>\n",
       "    <tr>\n",
       "      <th>1</th>\n",
       "      <td>18</td>\n",
       "      <td>male</td>\n",
       "      <td>33.770</td>\n",
       "      <td>1</td>\n",
       "      <td>no</td>\n",
       "      <td>southeast</td>\n",
       "      <td>1725.55230</td>\n",
       "    </tr>\n",
       "    <tr>\n",
       "      <th>2</th>\n",
       "      <td>28</td>\n",
       "      <td>male</td>\n",
       "      <td>33.000</td>\n",
       "      <td>3</td>\n",
       "      <td>no</td>\n",
       "      <td>southeast</td>\n",
       "      <td>4449.46200</td>\n",
       "    </tr>\n",
       "    <tr>\n",
       "      <th>3</th>\n",
       "      <td>33</td>\n",
       "      <td>male</td>\n",
       "      <td>22.705</td>\n",
       "      <td>0</td>\n",
       "      <td>no</td>\n",
       "      <td>northwest</td>\n",
       "      <td>21984.47061</td>\n",
       "    </tr>\n",
       "    <tr>\n",
       "      <th>4</th>\n",
       "      <td>32</td>\n",
       "      <td>male</td>\n",
       "      <td>28.880</td>\n",
       "      <td>0</td>\n",
       "      <td>no</td>\n",
       "      <td>northwest</td>\n",
       "      <td>3866.85520</td>\n",
       "    </tr>\n",
       "  </tbody>\n",
       "</table>\n",
       "</div>"
      ],
      "text/plain": [
       "   age     sex     bmi  children smoker     region      charges\n",
       "0   19  female  27.900         0    yes  southwest  16884.92400\n",
       "1   18    male  33.770         1     no  southeast   1725.55230\n",
       "2   28    male  33.000         3     no  southeast   4449.46200\n",
       "3   33    male  22.705         0     no  northwest  21984.47061\n",
       "4   32    male  28.880         0     no  northwest   3866.85520"
      ]
     },
     "metadata": {},
     "output_type": "display_data"
    },
    {
     "name": "stdout",
     "output_type": "stream",
     "text": [
      "<class 'pandas.core.frame.DataFrame'>\n",
      "RangeIndex: 1338 entries, 0 to 1337\n",
      "Data columns (total 7 columns):\n",
      " #   Column    Non-Null Count  Dtype  \n",
      "---  ------    --------------  -----  \n",
      " 0   age       1338 non-null   int64  \n",
      " 1   sex       1338 non-null   object \n",
      " 2   bmi       1338 non-null   float64\n",
      " 3   children  1338 non-null   int64  \n",
      " 4   smoker    1338 non-null   object \n",
      " 5   region    1338 non-null   object \n",
      " 6   charges   1338 non-null   float64\n",
      "dtypes: float64(2), int64(2), object(3)\n",
      "memory usage: 73.3+ KB\n"
     ]
    }
   ],
   "source": [
    "# Load in the insurance.csv in the data folder and display preview\n",
    "df = pd.read_csv(\"/Users/ROSA/Documents/Data/insurance.csv\")\n",
    "display(df.head())\n",
    "df.info()"
   ]
  },
  {
   "cell_type": "markdown",
   "id": "75bb3948",
   "metadata": {},
   "source": [
    "## Do smokers have higher insurance charges than non-smokers"
   ]
  },
  {
   "cell_type": "markdown",
   "id": "ddc59067",
   "metadata": {},
   "source": [
    "#### State the Hypothesis & Null Hypothesis\n",
    "- Null Hypothesis There is no difference in charges for smokers vs. nonsmokers\n",
    "- Alternative Hypothesis There is a difference in charges for smokers vs. non\n",
    "- Alpha: 0.05\n",
    "\n",
    "#### Selecting the Correct Hypothesis Test\n",
    "\n",
    "    Based upon the Choosing the Right Hypothesis Test workflow from the LP:\n",
    "\n",
    "- What type of data? \n",
    "\n",
    "    - Numeric (insurance charges)\n",
    "\n",
    "\n",
    "- What type of comparison?\n",
    "\n",
    "    - 2 groups/samples\n",
    "\n",
    "Therefore the correct test is:\n",
    "\n",
    "- 2-sample t-test, A.K.A. an independent t-test.\n",
    "\n",
    "#### Assumptions of 2-sample T-Test:\n",
    "\n",
    "- No significant outliers\n",
    "- Normality\n",
    "- Equal Variance"
   ]
  },
  {
   "cell_type": "code",
   "execution_count": 7,
   "id": "ecb8a4cf",
   "metadata": {},
   "outputs": [
    {
     "data": {
      "text/plain": [
       "no     1064\n",
       "yes     274\n",
       "Name: smoker, dtype: int64"
      ]
     },
     "execution_count": 7,
     "metadata": {},
     "output_type": "execute_result"
    }
   ],
   "source": [
    "df['smoker'].value_counts()"
   ]
  },
  {
   "cell_type": "code",
   "execution_count": 8,
   "id": "c8497d5b",
   "metadata": {},
   "outputs": [],
   "source": [
    "# filter into groups based on smokers or not\n",
    "smokers = df.loc[df['smoker'] == 'yes'].copy()\n",
    "non = df.loc[df['smoker'] == 'no'].copy()"
   ]
  },
  {
   "cell_type": "code",
   "execution_count": 9,
   "id": "60a7c84a",
   "metadata": {},
   "outputs": [],
   "source": [
    "smokers_charge = smokers['charges']\n",
    "non_charge = non['charges']"
   ]
  },
  {
   "cell_type": "code",
   "execution_count": 10,
   "id": "2191d78f",
   "metadata": {},
   "outputs": [
    {
     "data": {
      "image/png": "[encoded data removed]",
      "text/plain": [
       "<Figure size 800x400 with 2 Axes>"
      ]
     },
     "metadata": {},
     "output_type": "display_data"
    }
   ],
   "source": [
    "## Visualizing Sample means\n",
    "fig, (ax,ax_bar) = plt.subplots(figsize= (8,4), ncols=2,\n",
    "                                constrained_layout=True,\n",
    "                                gridspec_kw={'width_ratios':[0.8,0.2]})\n",
    "\n",
    "\n",
    "# Histogram\n",
    "ax = sns.histplot(data=df, x='charges',fill=True,hue='smoker',kde=True,\n",
    "                  stat='density',common_norm=False,ax=ax)\n",
    "\n",
    "ax.axvline(np.mean(smokers_charge), ls='--',lw=3,\n",
    "           label=f\"Smokers (Mean={np.mean(smokers_charge):.2f})\",color='orange')\n",
    "\n",
    "ax.axvline(np.mean(non_charge), ls='--', lw=3,\n",
    "           label=f\"Non-Smokers (Mean={np.mean(non_charge):.2f})\",color='black')\n",
    "\n",
    "ax.legend(prop={\"size\":14}, loc='upper right')#bbox_to_anchor=[1,1])\n",
    "## Barplot\n",
    "sns.barplot(data=df, x='smoker',y='charges',ax = ax_bar)\n",
    "fig.suptitle('Charges for smokers vs. nons-smokers',fontsize='xx-large');"
   ]
  },
  {
   "cell_type": "markdown",
   "id": "cbb9a929",
   "metadata": {},
   "source": [
    "# Check Assumptions"
   ]
  },
  {
   "cell_type": "code",
   "execution_count": 11,
   "id": "b71184e6",
   "metadata": {},
   "outputs": [
    {
     "data": {
      "text/plain": [
       "0"
      ]
     },
     "execution_count": 11,
     "metadata": {},
     "output_type": "execute_result"
    }
   ],
   "source": [
    "# Find and remove outliers for smokers\n",
    "zscores= stats.zscore(smokers_charge)\n",
    "outliers = abs(zscores)>3\n",
    "np.sum(outliers)"
   ]
  },
  {
   "cell_type": "markdown",
   "id": "eec741db",
   "metadata": {},
   "source": [
    "#### ^ No Outliers"
   ]
  },
  {
   "cell_type": "code",
   "execution_count": 12,
   "id": "a375c16d",
   "metadata": {},
   "outputs": [
    {
     "data": {
      "text/plain": [
       "24"
      ]
     },
     "execution_count": 12,
     "metadata": {},
     "output_type": "execute_result"
    }
   ],
   "source": [
    "# Find and remove outliers for non smokers\n",
    "zscores= stats.zscore(non_charge)\n",
    "outliers = abs(zscores)>3\n",
    "np.sum(outliers)"
   ]
  },
  {
   "cell_type": "code",
   "execution_count": 13,
   "id": "f6ba18c3",
   "metadata": {},
   "outputs": [
    {
     "data": {
      "text/plain": [
       "1        1725.55230\n",
       "2        4449.46200\n",
       "3       21984.47061\n",
       "4        3866.85520\n",
       "5        3756.62160\n",
       "           ...     \n",
       "1332    11411.68500\n",
       "1333    10600.54830\n",
       "1334     2205.98080\n",
       "1335     1629.83350\n",
       "1336     2007.94500\n",
       "Name: charges, Length: 1040, dtype: float64"
      ]
     },
     "execution_count": 13,
     "metadata": {},
     "output_type": "execute_result"
    }
   ],
   "source": [
    "# Removing outliers from non smokers\n",
    "non_charge = non_charge[~outliers]\n",
    "non_charge"
   ]
  },
  {
   "cell_type": "markdown",
   "id": "e3ea779f",
   "metadata": {},
   "source": [
    "## Normality \n",
    " - We can skip this step since both groups are greater than n = 15)"
   ]
  },
  {
   "cell_type": "markdown",
   "id": "518b1f01",
   "metadata": {},
   "source": [
    "## Equal Varience"
   ]
  },
  {
   "cell_type": "code",
   "execution_count": 14,
   "id": "efe55efc",
   "metadata": {},
   "outputs": [
    {
     "data": {
      "text/plain": [
       "LeveneResult(statistic=520.7468821724297, pvalue=2.4247238784347824e-97)"
      ]
     },
     "execution_count": 14,
     "metadata": {},
     "output_type": "execute_result"
    }
   ],
   "source": [
    "# Test for variance\n",
    "result = stats.levene(smokers_charge, non_charge)\n",
    "result"
   ]
  },
  {
   "cell_type": "code",
   "execution_count": 15,
   "id": "56dfe96d",
   "metadata": {},
   "outputs": [
    {
     "data": {
      "text/plain": [
       "True"
      ]
     },
     "execution_count": 15,
     "metadata": {},
     "output_type": "execute_result"
    }
   ],
   "source": [
    "result.pvalue<.05"
   ]
  },
  {
   "cell_type": "markdown",
   "id": "3413f65a",
   "metadata": {},
   "source": [
    "- The null hypothesis of the Levene's test is that the samples DO have equal variance.\n",
    "\n",
    "- Therefore, our significant p-value indicates that we do NOT have equal varaince.\n",
    "- Therefore, we will run the Welch's t-test instead of the default (for scipy's ttest_ind change the equal_var argument to False)"
   ]
  },
  {
   "cell_type": "markdown",
   "id": "f03d3421",
   "metadata": {},
   "source": [
    "# Final Test"
   ]
  },
  {
   "cell_type": "code",
   "execution_count": 16,
   "id": "da6d70a8",
   "metadata": {},
   "outputs": [
    {
     "data": {
      "text/plain": [
       "Ttest_indResult(statistic=33.732305987092516, pvalue=2.575322662587431e-104)"
      ]
     },
     "execution_count": 16,
     "metadata": {},
     "output_type": "execute_result"
    }
   ],
   "source": [
    "# Since not equal variances, set equal_var = False\n",
    "result = stats.ttest_ind(smokers_charge, non_charge, equal_var = False)\n",
    "result"
   ]
  },
  {
   "cell_type": "code",
   "execution_count": 17,
   "id": "ad0bec4e",
   "metadata": {},
   "outputs": [
    {
     "data": {
      "text/plain": [
       "True"
      ]
     },
     "execution_count": 17,
     "metadata": {},
     "output_type": "execute_result"
    }
   ],
   "source": [
    "result.pvalue<.05"
   ]
  },
  {
   "cell_type": "markdown",
   "id": "bfc97905",
   "metadata": {},
   "source": [
    "- Our Welch's T-Test return a p-value < .05 therefore we can reject the null hypothesis and support the alternative hypothesis that there is a significant difference in insurance charges for smokers vs. non-smokers.\n",
    "\n",
    "- In order to know if they are have higher or lower charges, we look at the actual means of our final groups."
   ]
  },
  {
   "cell_type": "code",
   "execution_count": 18,
   "id": "56ef4637",
   "metadata": {},
   "outputs": [
    {
     "data": {
      "image/png": "[encoded data removed]",
      "text/plain": [
       "<Figure size 640x480 with 1 Axes>"
      ]
     },
     "metadata": {},
     "output_type": "display_data"
    }
   ],
   "source": [
    "plt.bar(['Non-Smoker','Smoker'],[non_charge.mean(), smokers_charge.mean()]);"
   ]
  },
  {
   "cell_type": "markdown",
   "id": "4a4d3244",
   "metadata": {},
   "source": [
    "## Q2. Are men more likely to smoke than women?\n",
    "\n",
    "#### State the Hypothesis & Null Hypothesis\n",
    "    Null Hypothesis: Men and women are equally likely to be smokers.\n",
    "\n",
    "    Alternative Hypothesis: Men or women are more likely to be smokers.\n",
    "\n",
    "#### Selecting the Correct Hypothesis Test\n",
    "    Based upon the Choosing the Right Hypothesis Test workflow from the LP:\n",
    "\n",
    "* What type of data? \n",
    "\n",
    "    * Categorical (Member of smoker/non-smoker)\n",
    "\n",
    "\n",
    "* What type of comparison?\n",
    "\n",
    "    -2 groups/samples (Males vs Females)\n",
    "\n",
    "Therefore the correct test is:\n",
    "\n",
    "- Chi-Squared Contingency Test\n",
    "- Assumptions of Chi-Square Test:\n",
    "\n",
    "    - There are two categorical variables (ordinal or nominal)\n",
    "    - The outcomes are independent."
   ]
  },
  {
   "cell_type": "code",
   "execution_count": 19,
   "id": "e00e39fa",
   "metadata": {},
   "outputs": [
    {
     "data": {
      "image/png": "[encoded data removed]",
      "text/plain": [
       "<Figure size 640x480 with 1 Axes>"
      ]
     },
     "metadata": {},
     "output_type": "display_data"
    }
   ],
   "source": [
    "ax = sns.countplot(data=df, x='sex',hue='smoker',)\n",
    "ax.set_title(\"Number of Smokers by Sex\");"
   ]
  },
  {
   "cell_type": "code",
   "execution_count": 20,
   "id": "b057e73a",
   "metadata": {},
   "outputs": [
    {
     "data": {
      "text/html": [
       "<div>\n",
       "<style scoped>\n",
       "    .dataframe tbody tr th:only-of-type {\n",
       "        vertical-align: middle;\n",
       "    }\n",
       "\n",
       "    .dataframe tbody tr th {\n",
       "        vertical-align: top;\n",
       "    }\n",
       "\n",
       "    .dataframe thead th {\n",
       "        text-align: right;\n",
       "    }\n",
       "</style>\n",
       "<table border=\"1\" class=\"dataframe\">\n",
       "  <thead>\n",
       "    <tr style=\"text-align: right;\">\n",
       "      <th>smoker</th>\n",
       "      <th>no</th>\n",
       "      <th>yes</th>\n",
       "    </tr>\n",
       "    <tr>\n",
       "      <th>sex</th>\n",
       "      <th></th>\n",
       "      <th></th>\n",
       "    </tr>\n",
       "  </thead>\n",
       "  <tbody>\n",
       "    <tr>\n",
       "      <th>female</th>\n",
       "      <td>547</td>\n",
       "      <td>115</td>\n",
       "    </tr>\n",
       "    <tr>\n",
       "      <th>male</th>\n",
       "      <td>517</td>\n",
       "      <td>159</td>\n",
       "    </tr>\n",
       "  </tbody>\n",
       "</table>\n",
       "</div>"
      ],
      "text/plain": [
       "smoker   no  yes\n",
       "sex             \n",
       "female  547  115\n",
       "male    517  159"
      ]
     },
     "execution_count": 20,
     "metadata": {},
     "output_type": "execute_result"
    }
   ],
   "source": [
    "# calculate the contingency table with pd.cross-tab\n",
    "table = pd.crosstab(df['sex'], df['smoker'])\n",
    "table"
   ]
  },
  {
   "cell_type": "code",
   "execution_count": 21,
   "id": "decfdbc4",
   "metadata": {},
   "outputs": [],
   "source": [
    "# Run the Test and Save the Output\n",
    "result = stats.chi2_contingency(table)\n",
    "chi2, p, deg_free, expected_vals = result #this labels the results"
   ]
  },
  {
   "cell_type": "code",
   "execution_count": 22,
   "id": "8d1a225b",
   "metadata": {},
   "outputs": [
    {
     "name": "stdout",
     "output_type": "stream",
     "text": [
      "0.006548143503580696\n"
     ]
    },
    {
     "data": {
      "text/plain": [
       "True"
      ]
     },
     "execution_count": 22,
     "metadata": {},
     "output_type": "execute_result"
    }
   ],
   "source": [
    "# What was our p-value?\n",
    "print(p)\n",
    "p<.05"
   ]
  },
  {
   "cell_type": "markdown",
   "id": "8d38459d",
   "metadata": {},
   "source": [
    "Our p-value is < our alpha of .05, so we reject the null hypothesis that men and women are equally liklely to be smokers.\n",
    "\n",
    "We must examine the % of males vs. females who smoke to confirm if males smoke more or less."
   ]
  },
  {
   "cell_type": "code",
   "execution_count": 23,
   "id": "bbf57286",
   "metadata": {},
   "outputs": [
    {
     "data": {
      "text/plain": [
       "<Axes: xlabel='sex', ylabel='Probability'>"
      ]
     },
     "execution_count": 23,
     "metadata": {},
     "output_type": "execute_result"
    },
    {
     "data": {
      "image/png": "[encoded data removed]",
      "text/plain": [
       "<Figure size 640x480 with 1 Axes>"
      ]
     },
     "metadata": {},
     "output_type": "display_data"
    }
   ],
   "source": [
    "sns.histplot(data=df, x='sex', hue='smoker', stat='probability',\n",
    "            multiple='fill')"
   ]
  },
  {
   "cell_type": "markdown",
   "id": "1d2edebb",
   "metadata": {},
   "source": [
    "#### Men are signficantly more likely to be smokers than women."
   ]
  },
  {
   "cell_type": "markdown",
   "id": "bf2ff224",
   "metadata": {},
   "source": [
    "# Q3. Do different regions have different charges, on average?\n",
    "\n",
    "#### State the Hypothesis & Null Hypothesis\n",
    "- Null Hypothesis : Insurance charges are the same across regions.\n",
    "\n",
    "- Alternative Hypothesis : Insurance charges are different across regions."
   ]
  },
  {
   "cell_type": "markdown",
   "id": "d116656d",
   "metadata": {},
   "source": [
    "# Selecting the Correct Hypothesis Test"
   ]
  },
  {
   "cell_type": "code",
   "execution_count": 24,
   "id": "70acede0",
   "metadata": {},
   "outputs": [
    {
     "data": {
      "text/plain": [
       "<Axes: xlabel='region', ylabel='charges'>"
      ]
     },
     "execution_count": 24,
     "metadata": {},
     "output_type": "execute_result"
    },
    {
     "data": {
      "image/png": "[encoded data removed]",
      "text/plain": [
       "<Figure size 640x480 with 1 Axes>"
      ]
     },
     "metadata": {},
     "output_type": "display_data"
    }
   ],
   "source": [
    "sns.barplot(data = df, x = 'region', y  = 'charges')"
   ]
  },
  {
   "cell_type": "markdown",
   "id": "313f31c8",
   "metadata": {},
   "source": [
    "Based upon the Choosing the Right Hypothesis Test workflow from the LP:\n",
    "\n",
    "- What type of data? \n",
    "    - Numeric (Charges)\n",
    "\n",
    "- What type of comparison?\n",
    "\n",
    "     - More than 2 groups/samples (4 groups)\n",
    "\n",
    "\n",
    "- Therefore the correct test is:\n",
    "\n",
    "    - ANOVA\n",
    "- Assumptions of ANOVA:\n",
    "\n",
    "- No significant outliers\n",
    "- Equal variance\n",
    "- Normality"
   ]
  },
  {
   "cell_type": "markdown",
   "id": "ac778b36",
   "metadata": {},
   "source": [
    "## Testing ANOVA Assumptions"
   ]
  },
  {
   "cell_type": "code",
   "execution_count": 25,
   "id": "8ded157c",
   "metadata": {},
   "outputs": [
    {
     "data": {
      "text/plain": [
       "dict_keys(['southwest', 'southeast', 'northwest', 'northeast'])"
      ]
     },
     "execution_count": 25,
     "metadata": {},
     "output_type": "execute_result"
    }
   ],
   "source": [
    "# Create groups dictionary.\n",
    "groups = {}\n",
    "\n",
    "## Loop through all unique categories\n",
    "for region in df['region'].unique():\n",
    "    ## Get series for group and rename\n",
    "    data = df.loc[df['region']==region,'charges'].copy()\n",
    "\n",
    "    # save into the dictionary\n",
    "    groups[region] = data\n",
    "groups.keys()"
   ]
  },
  {
   "cell_type": "markdown",
   "id": "8ab4cf45",
   "metadata": {},
   "source": [
    "#### No Outliers"
   ]
  },
  {
   "cell_type": "code",
   "execution_count": 26,
   "id": "ff1041c6",
   "metadata": {},
   "outputs": [
    {
     "name": "stdout",
     "output_type": "stream",
     "text": [
      "- For southwest, there were 8 outliers removed.\n",
      "- For southeast, there were 2 outliers removed.\n",
      "- For northwest, there were 7 outliers removed.\n",
      "- For northeast, there were 4 outliers removed.\n"
     ]
    },
    {
     "data": {
      "text/plain": [
       "dict_keys(['southwest', 'southeast', 'northwest', 'northeast'])"
      ]
     },
     "execution_count": 26,
     "metadata": {},
     "output_type": "execute_result"
    }
   ],
   "source": [
    "## Loop through groups\n",
    "groups_clean = {}\n",
    "\n",
    "for group, data in groups.items():\n",
    "    \n",
    "    ## Get series for group and rename\n",
    "    outliers = np.abs(stats.zscore(data))>3\n",
    "    n_outliers = np.sum(outliers)\n",
    "    \n",
    "    print(f\"- For {group}, there were {n_outliers} outliers removed.\")\n",
    "    clean_data = data[~outliers]\n",
    "\n",
    "    # save into the clean dictionary\n",
    "    groups_clean[group] = clean_data\n",
    "    \n",
    "groups_clean.keys()"
   ]
  },
  {
   "cell_type": "markdown",
   "id": "70099497",
   "metadata": {},
   "source": [
    "#### Normality"
   ]
  },
  {
   "cell_type": "code",
   "execution_count": 27,
   "id": "6e82500c",
   "metadata": {},
   "outputs": [
    {
     "data": {
      "text/html": [
       "<div>\n",
       "<style scoped>\n",
       "    .dataframe tbody tr th:only-of-type {\n",
       "        vertical-align: middle;\n",
       "    }\n",
       "\n",
       "    .dataframe tbody tr th {\n",
       "        vertical-align: top;\n",
       "    }\n",
       "\n",
       "    .dataframe thead th {\n",
       "        text-align: right;\n",
       "    }\n",
       "</style>\n",
       "<table border=\"1\" class=\"dataframe\">\n",
       "  <thead>\n",
       "    <tr style=\"text-align: right;\">\n",
       "      <th></th>\n",
       "      <th>group</th>\n",
       "      <th>n</th>\n",
       "      <th>p</th>\n",
       "      <th>test stat</th>\n",
       "      <th>sig?</th>\n",
       "    </tr>\n",
       "  </thead>\n",
       "  <tbody>\n",
       "    <tr>\n",
       "      <th>0</th>\n",
       "      <td>southwest</td>\n",
       "      <td>317</td>\n",
       "      <td>7.728611e-22</td>\n",
       "      <td>97.223886</td>\n",
       "      <td>True</td>\n",
       "    </tr>\n",
       "    <tr>\n",
       "      <th>1</th>\n",
       "      <td>southeast</td>\n",
       "      <td>362</td>\n",
       "      <td>1.936990e-13</td>\n",
       "      <td>58.544942</td>\n",
       "      <td>True</td>\n",
       "    </tr>\n",
       "    <tr>\n",
       "      <th>2</th>\n",
       "      <td>northwest</td>\n",
       "      <td>318</td>\n",
       "      <td>2.940543e-19</td>\n",
       "      <td>85.341045</td>\n",
       "      <td>True</td>\n",
       "    </tr>\n",
       "    <tr>\n",
       "      <th>3</th>\n",
       "      <td>northeast</td>\n",
       "      <td>320</td>\n",
       "      <td>3.557877e-17</td>\n",
       "      <td>75.749565</td>\n",
       "      <td>True</td>\n",
       "    </tr>\n",
       "  </tbody>\n",
       "</table>\n",
       "</div>"
      ],
      "text/plain": [
       "       group    n             p  test stat  sig?\n",
       "0  southwest  317  7.728611e-22  97.223886  True\n",
       "1  southeast  362  1.936990e-13  58.544942  True\n",
       "2  northwest  318  2.940543e-19  85.341045  True\n",
       "3  northeast  320  3.557877e-17  75.749565  True"
      ]
     },
     "execution_count": 27,
     "metadata": {},
     "output_type": "execute_result"
    }
   ],
   "source": [
    "# Running normal test on each group and confirming there are >20 in each group\n",
    "norm_results = []\n",
    "for group, data in groups_clean.items():\n",
    "    \n",
    "    stat, p = stats.normaltest(data)\n",
    "    ## save the p val, test statistic, and the size of the group\n",
    "    norm_results.append({'group':group, 'n': len(data),\n",
    "                         'p':p, 'test stat':stat, 'sig?':p<.05})\n",
    "## convert to a dataframe\n",
    "norm_results_df = pd.DataFrame(norm_results)\n",
    "norm_results_df"
   ]
  },
  {
   "cell_type": "markdown",
   "id": "9958c15f",
   "metadata": {},
   "source": [
    "* None of the groups are normally disributed, BUT our groups are greater than n =15 so we can safely disregard the assumption of normality."
   ]
  },
  {
   "cell_type": "markdown",
   "id": "1361739b",
   "metadata": {},
   "source": [
    "### Testing Assumption of Equal Variance"
   ]
  },
  {
   "cell_type": "code",
   "execution_count": 28,
   "id": "88c82dc1",
   "metadata": {},
   "outputs": [
    {
     "data": {
      "text/plain": [
       "LeveneResult(statistic=9.518349004554441, pvalue=3.2035503711783993e-06)"
      ]
     },
     "execution_count": 28,
     "metadata": {},
     "output_type": "execute_result"
    }
   ],
   "source": [
    "# with the * operator\n",
    "res = stats.levene(*groups_clean.values())\n",
    "res"
   ]
  },
  {
   "cell_type": "code",
   "execution_count": 29,
   "id": "19f70787",
   "metadata": {},
   "outputs": [
    {
     "data": {
      "text/plain": [
       "True"
      ]
     },
     "execution_count": 29,
     "metadata": {},
     "output_type": "execute_result"
    }
   ],
   "source": [
    "res.pvalue<.05"
   ]
  },
  {
   "cell_type": "markdown",
   "id": "45b01324",
   "metadata": {},
   "source": [
    "* The null hypothesis of the Levene's test is that the samples DO have equal variance.\n",
    "\n",
    "* Therefore, our significant p-value indicates that we do NOT have equal varaince.\n",
    "* Therefore, we will run the Kruskal-Wallis test instead of the ANOVA test."
   ]
  },
  {
   "cell_type": "markdown",
   "id": "807cc18f",
   "metadata": {},
   "source": [
    "### Final Hypothesis Test"
   ]
  },
  {
   "cell_type": "code",
   "execution_count": 30,
   "id": "9b4a2d0a",
   "metadata": {},
   "outputs": [
    {
     "data": {
      "text/plain": [
       "KruskalResult(statistic=6.914045702545643, pvalue=0.07468847911322242)"
      ]
     },
     "execution_count": 30,
     "metadata": {},
     "output_type": "execute_result"
    }
   ],
   "source": [
    "# Run the kruskal wallis test\n",
    "res = stats.kruskal(*groups_clean.values())\n",
    "res"
   ]
  },
  {
   "cell_type": "code",
   "execution_count": 31,
   "id": "63e74468",
   "metadata": {},
   "outputs": [
    {
     "data": {
      "text/plain": [
       "False"
      ]
     },
     "execution_count": 31,
     "metadata": {},
     "output_type": "execute_result"
    }
   ],
   "source": [
    "res.pvalue<.05"
   ]
  },
  {
   "cell_type": "markdown",
   "id": "f618bb0d",
   "metadata": {},
   "source": [
    "Our p-value is greater than 0.05, so no we fail to reject the null hypothesis.\n",
    "\n",
    "There are no significant difference between regions."
   ]
  },
  {
   "cell_type": "code",
   "execution_count": null,
   "id": "677999a3",
   "metadata": {},
   "outputs": [],
   "source": []
  },
  {
   "cell_type": "code",
   "execution_count": null,
   "id": "10b8868d",
   "metadata": {},
   "outputs": [],
   "source": []
  }
 ],
 "metadata": {
  "kernelspec": {
   "display_name": "Python (dojo-env)",
   "language": "python",
   "name": "dojo-env"
  },
  "language_info": {
   "codemirror_mode": {
    "name": "ipython",
    "version": 3
   },
   "file_extension": ".py",
   "mimetype": "text/x-python",
   "name": "python",
   "nbconvert_exporter": "python",
   "pygments_lexer": "ipython3",
   "version": "3.9.15"
  },
  "toc": {
   "base_numbering": "",
   "nav_menu": {},
   "number_sections": false,
   "sideBar": false,
   "skip_h1_title": false,
   "title_cell": "",
   "title_sidebar": "",
   "toc_cell": false,
   "toc_position": {},
   "toc_section_display": false,
   "toc_window_display": false
  }
 },
 "nbformat": 4,
 "nbformat_minor": 5
}
